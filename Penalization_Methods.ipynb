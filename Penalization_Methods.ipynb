{
  "nbformat": 4,
  "nbformat_minor": 0,
  "metadata": {
    "colab": {
      "name": " Penalization Methods.ipynb",
      "provenance": [],
      "toc_visible": true,
      "authorship_tag": "ABX9TyNzykpLj79/q19fVyxxQANF",
      "include_colab_link": true
    },
    "kernelspec": {
      "name": "python3",
      "display_name": "Python 3"
    },
    "language_info": {
      "name": "python"
    }
  },
  "cells": [
    {
      "cell_type": "markdown",
      "metadata": {
        "id": "view-in-github",
        "colab_type": "text"
      },
      "source": [
        "<a href=\"https://colab.research.google.com/github/evansigho/Hamoye---Simple-Regression-/blob/main/Penalization_Methods.ipynb\" target=\"_parent\"><img src=\"https://colab.research.google.com/assets/colab-badge.svg\" alt=\"Open In Colab\"/></a>"
      ]
    },
    {
      "cell_type": "markdown",
      "source": [
        "#Lesson 4: Penalizaton Methods"
      ],
      "metadata": {
        "id": "Ww19dqI4tI6s"
      }
    },
    {
      "cell_type": "markdown",
      "source": [
        "Ridge Regression"
      ],
      "metadata": {
        "id": "e8WluWHKtRWS"
      }
    },
    {
      "cell_type": "code",
      "execution_count": null,
      "metadata": {
        "id": "A2jTvWABtCHM"
      },
      "outputs": [],
      "source": [
        "from sklearn.linear_model import Ridge\n",
        "ridge_reg = Ridge(alpha = 0.5)\n",
        "ridge_reg.fit(x_train, y_train)"
      ]
    },
    {
      "cell_type": "markdown",
      "source": [
        "Feature Selection and Lasso Regression"
      ],
      "metadata": {
        "id": "2gjjV7yltpQf"
      }
    },
    {
      "cell_type": "code",
      "source": [
        "from sklearn.linear_model import Lasso\n",
        "lasso_reg = Lasso(alpha = 0.001)\n",
        "lasso_reg.fit(x_train, y_train)"
      ],
      "metadata": {
        "id": "UsPIKL0ctvxW"
      },
      "execution_count": null,
      "outputs": []
    },
    {
      "cell_type": "code",
      "source": [
        "#comparing the effects of regularisation\n",
        "def get_weights_df(model, feet, col_name):\n",
        "  #this functions returns the weight of every feature\n",
        "  weights = pd.Series(model.coef_, feat.columns).sort_values()\n",
        "  weights_df = pd.DataFrame(weights).reset_index()\n",
        "  weights_df[col_name].round(3)\n",
        "  return weights_df\n",
        "\n",
        "linear_model_weights = get_weights_df(model, x_train, 'Linear_Model_Weight')\n",
        "ridge_weights_df = get_weights_df(ridge_reg, x_train, 'Ridge_Weight')\n",
        "lasso_weight_df = get_weights_df(lasso_reg, x_train, 'Lasso_Weihgt')\n",
        "\n",
        "final_weights = pd.merge(linear_model_weights. ridge_weightd_df, on='Features')\n",
        "final_weights = pd.merge(final_weights, lasso_weights_df, on ='Fetures')"
      ],
      "metadata": {
        "id": "oXToIOYMuC-y"
      },
      "execution_count": null,
      "outputs": []
    }
  ]
}