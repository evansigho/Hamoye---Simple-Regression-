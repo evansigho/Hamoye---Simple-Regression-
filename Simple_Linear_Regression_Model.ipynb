{
  "nbformat": 4,
  "nbformat_minor": 0,
  "metadata": {
    "colab": {
      "name": "Simple Linear Regression Model.ipynb",
      "provenance": [],
      "toc_visible": true,
      "authorship_tag": "ABX9TyMsHLAIWKniACKzob4dSGlH",
      "include_colab_link": true
    },
    "kernelspec": {
      "name": "python3",
      "display_name": "Python 3"
    },
    "language_info": {
      "name": "python"
    }
  },
  "cells": [
    {
      "cell_type": "markdown",
      "metadata": {
        "id": "view-in-github",
        "colab_type": "text"
      },
      "source": [
        "<a href=\"https://colab.research.google.com/github/evansigho/Hamoye---Simple-Regression-/blob/main/Simple_Linear_Regression_Model.ipynb\" target=\"_parent\"><img src=\"https://colab.research.google.com/assets/colab-badge.svg\" alt=\"Open In Colab\"/></a>"
      ]
    },
    {
      "cell_type": "markdown",
      "source": [
        "#Measuring Regression Performance"
      ],
      "metadata": {
        "id": "TxfiFK1GfQxC"
      }
    },
    {
      "cell_type": "markdown",
      "source": [
        "Mean Absolute Error (MAE)"
      ],
      "metadata": {
        "id": "PpcJnWM6faQN"
      }
    },
    {
      "cell_type": "code",
      "execution_count": null,
      "metadata": {
        "id": "Xg-UXZbvc9Dl"
      },
      "outputs": [],
      "source": [
        "#Firstly, we normalise our dataset to a common scale using the min max scaler\n",
        "\n",
        "from sklearn.preprocessing import MinMaxScaler\n",
        "Scaler = MinMaxScaler()\n",
        "normalised_df = pd.DataFrame(scaler.fit_transform(df), columns=df.columns)\n",
        "features_df = normalised_df.drop(columns=['Heating_LOad' 'Cooling_load'])\n",
        "heating_target = normalised_df['Heating_load']"
      ]
    },
    {
      "cell_type": "code",
      "source": [
        "#Now, we split our dataset into the training and testing dataset. Recall that we had earlier segmented the features and target variables.\n",
        "from sklearn.model_selection import train_split\n",
        "x_train, x_test, y_test = train_test_split(features_df, heating_target,\n",
        "                                           test_size=0.3, random_state-1)"
      ],
      "metadata": {
        "id": "mHk3bpbEgq6r"
      },
      "execution_count": null,
      "outputs": []
    },
    {
      "cell_type": "code",
      "source": [
        "linear_model = LinearRegression()\n",
        "#fit the model to the training dataset\n",
        "linear_model.fit(x_train, y_train)\n",
        "#obtain predictions\n",
        "predict_values = linear_model.predict(x_test)\n",
        "#MAE\n",
        "from sklearn.metrics import mean_absolute_error\n",
        "mae = mean_absolute_error(y_test, predicted_values)\n",
        "rounf(mae, 3)        #prints 0.063"
      ],
      "metadata": {
        "id": "rpVvMFohhath"
      },
      "execution_count": null,
      "outputs": []
    },
    {
      "cell_type": "markdown",
      "source": [
        "#Residual Sum of squares (RSS)"
      ],
      "metadata": {
        "id": "0NTcmyDEiVt9"
      }
    },
    {
      "cell_type": "code",
      "source": [
        "import numpy as np\n",
        "rss = np.sum(np.square(y_test = predictedvalues))\n",
        "round(rss, 3)    #prints 1.823"
      ],
      "metadata": {
        "id": "mDY1nIo1ic6d"
      },
      "execution_count": null,
      "outputs": []
    },
    {
      "cell_type": "markdown",
      "source": [
        "#Root Mean Square Error (RMSE)"
      ],
      "metadata": {
        "id": "39plO5DJiuQC"
      }
    },
    {
      "cell_type": "code",
      "source": [
        "from sklearn.metrics import mean_squared_error\n",
        "rmse = np.sqrt(mean_squared_error(y_test, predicted_values))\n",
        "round(rmse, 3)    #prints 0.089"
      ],
      "metadata": {
        "id": "HtjJ7io7i3Rc"
      },
      "execution_count": null,
      "outputs": []
    },
    {
      "cell_type": "markdown",
      "source": [
        "#R-Squared"
      ],
      "metadata": {
        "id": "NUHPbCGJjZGW"
      }
    },
    {
      "cell_type": "code",
      "source": [
        "from sklearn.metrics import r2_score\n",
        "r2_score = r2_score(y_test, predicted_values)\n",
        "round(r2_score, 3)    #prints 0.893"
      ],
      "metadata": {
        "id": "aMigeu0ijikP"
      },
      "execution_count": null,
      "outputs": []
    }
  ]
}